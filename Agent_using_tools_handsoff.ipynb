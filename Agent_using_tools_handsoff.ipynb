{
  "nbformat": 4,
  "nbformat_minor": 0,
  "metadata": {
    "colab": {
      "provenance": [],
      "authorship_tag": "ABX9TyOe+HXTJkkkrWq68nIjkyA8",
      "include_colab_link": true
    },
    "kernelspec": {
      "name": "python3",
      "display_name": "Python 3"
    },
    "language_info": {
      "name": "python"
    }
  },
  "cells": [
    {
      "cell_type": "markdown",
      "metadata": {
        "id": "view-in-github",
        "colab_type": "text"
      },
      "source": [
        "<a href=\"https://colab.research.google.com/github/afaq5587/OPENAI-SDK-AGENTS/blob/main/Agent_using_tools_handsoff.ipynb\" target=\"_parent\"><img src=\"https://colab.research.google.com/assets/colab-badge.svg\" alt=\"Open In Colab\"/></a>"
      ]
    },
    {
      "cell_type": "code",
      "execution_count": null,
      "metadata": {
        "colab": {
          "base_uri": "https://localhost:8080/"
        },
        "id": "yPB8wP1AJW7O",
        "outputId": "12cf8ffb-93f0-439d-e43e-bda0cc470c39"
      },
      "outputs": [
        {
          "output_type": "stream",
          "name": "stdout",
          "text": [
            "\u001b[?25l   \u001b[90m━━━━━━━━━━━━━━━━━━━━━━━━━━━━━━━━━━━━━━━━\u001b[0m \u001b[32m0.0/7.7 MB\u001b[0m \u001b[31m?\u001b[0m eta \u001b[36m-:--:--\u001b[0m\r\u001b[2K   \u001b[91m━━━━━━━━━━━━━━━━━━━━━━━━━━━━━━━━━━\u001b[0m\u001b[90m╺\u001b[0m\u001b[90m━━━━━\u001b[0m \u001b[32m6.6/7.7 MB\u001b[0m \u001b[31m198.7 MB/s\u001b[0m eta \u001b[36m0:00:01\u001b[0m\r\u001b[2K   \u001b[91m━━━━━━━━━━━━━━━━━━━━━━━━━━━━━━━━━━━━━━━\u001b[0m\u001b[91m╸\u001b[0m \u001b[32m7.7/7.7 MB\u001b[0m \u001b[31m192.0 MB/s\u001b[0m eta \u001b[36m0:00:01\u001b[0m\r\u001b[2K   \u001b[90m━━━━━━━━━━━━━━━━━━━━━━━━━━━━━━━━━━━━━━━━\u001b[0m \u001b[32m7.7/7.7 MB\u001b[0m \u001b[31m105.8 MB/s\u001b[0m eta \u001b[36m0:00:00\u001b[0m\n",
            "\u001b[?25h\u001b[?25l   \u001b[90m━━━━━━━━━━━━━━━━━━━━━━━━━━━━━━━━━━━━━━━━\u001b[0m \u001b[32m0.0/647.0 kB\u001b[0m \u001b[31m?\u001b[0m eta \u001b[36m-:--:--\u001b[0m\r\u001b[2K   \u001b[90m━━━━━━━━━━━━━━━━━━━━━━━━━━━━━━━━━━━━━━━━\u001b[0m \u001b[32m647.0/647.0 kB\u001b[0m \u001b[31m37.8 MB/s\u001b[0m eta \u001b[36m0:00:00\u001b[0m\n",
            "\u001b[?25h\u001b[31mERROR: pip's dependency resolver does not currently take into account all the packages that are installed. This behaviour is the source of the following dependency conflicts.\n",
            "openai-agents 0.0.14 requires openai>=1.76.0, but you have openai 1.75.0 which is incompatible.\u001b[0m\u001b[31m\n",
            "\u001b[0m"
          ]
        }
      ],
      "source": [
        "!pip install -Uq openai-agents\n",
        "!pip install -Uq litellm"
      ]
    },
    {
      "cell_type": "code",
      "source": [
        "import nest_asyncio\n",
        "nest_asyncio.apply()"
      ],
      "metadata": {
        "id": "TiDU0huoKF-n"
      },
      "execution_count": null,
      "outputs": []
    },
    {
      "cell_type": "code",
      "source": [
        "from google.colab import userdata\n",
        "from pydantic import BaseModel\n",
        "from agents import (\n",
        "    AsyncOpenAI,\n",
        "    OpenAIChatCompletionsModel,\n",
        "    RunConfig\n",
        ")"
      ],
      "metadata": {
        "id": "eIqSZQlEKMkk"
      },
      "execution_count": null,
      "outputs": []
    },
    {
      "cell_type": "code",
      "source": [
        "gemini_api_key = userdata.get(\"GEMINI_API_KEY\")\n",
        "\n",
        "from agents import set_default_openai_client, set_tracing_disabled\n",
        "\n",
        "\n",
        "# Check if the API key is present; if not, raise an error\n",
        "if not gemini_api_key:\n",
        "    raise ValueError(\"GEMINI_API_KEY is not set. Please ensure it is defined in your .env file.\")\n",
        "\n",
        "#Reference: https://ai.google.dev/gemini-api/docs/openai\n",
        "external_client = AsyncOpenAI(\n",
        "    api_key=gemini_api_key,\n",
        "    base_url=\"https://generativelanguage.googleapis.com/v1beta/openai/\",\n",
        ")\n",
        "\n",
        "model = OpenAIChatCompletionsModel(\n",
        "    model=\"gemini-2.0-flash\",\n",
        "    openai_client=external_client\n",
        ")\n",
        "set_default_openai_client(external_client)\n",
        "set_tracing_disabled(True)"
      ],
      "metadata": {
        "id": "kQwkGgV_KR9j"
      },
      "execution_count": null,
      "outputs": []
    },
    {
      "cell_type": "code",
      "source": [
        "import asyncio\n",
        "import os\n",
        "import requests\n",
        "from agents import Agent, Runner, function_tool\n",
        "from litellm import completion\n",
        "\n",
        "OPENWEATHERMAP_API_KEY = userdata.get(\"OPENWEATHERMAP_API_KEY\")\n",
        "TAVILY_API_KEY = userdata.get(\"TAVILY_API_KEY\")\n",
        "\n",
        "@function_tool\n",
        "def get_weather(city: str) -> str:\n",
        "    \"\"\"Fetch the current weather for a given city using OpenWeatherMap API.\n",
        "\n",
        "    Args:\n",
        "        city: The name of the city to fetch the weather for.\n",
        "    \"\"\"\n",
        "    api_key = OPENWEATHERMAP_API_KEY\n",
        "    if not api_key:\n",
        "        return \"Error: OpenWeatherMap API key not set.\"\n",
        "\n",
        "    url = f\"http://api.openweathermap.org/data/2.5/weather?q={city}&appid={api_key}&units=metric\"\n",
        "    try:\n",
        "        response = requests.get(url)\n",
        "        response.raise_for_status()\n",
        "        data = response.json()\n",
        "        weather = data[\"weather\"][0][\"description\"]\n",
        "        temp = data[\"main\"][\"temp\"]\n",
        "        return f\"The weather in {city} is {weather} with a temperature of {temp}°C.\"\n",
        "    except requests.RequestException as e:\n",
        "        return f\"Error fetching weather for {city}: {str(e)}\"\n",
        "\n",
        "# Create the agent with Gemini model\n",
        "agent = Agent(\n",
        "    name=\"WeatherAssistant\",\n",
        "    instructions=\"You are a helpful assistant that provides weather information for cities. Use the get_weather tool to fetch current weather data when asked about the weather.\",\n",
        "    model=model,\n",
        "    tools=[get_weather]\n",
        ")\n",
        "\n",
        "# Main function to run the agent\n",
        "async def main():\n",
        "    result = await Runner.run(agent, \"What's the weather in Pakistan(islamabad)?\")\n",
        "    print(result.final_output)\n",
        "\n",
        "# Run the agent\n",
        "if __name__ == \"__main__\":\n",
        "    asyncio.run(main())"
      ],
      "metadata": {
        "colab": {
          "base_uri": "https://localhost:8080/"
        },
        "id": "ZdKQ6D2FKova",
        "outputId": "882672f8-3d04-4ceb-8917-ab57ed31847c"
      },
      "execution_count": null,
      "outputs": [
        {
          "output_type": "stream",
          "name": "stdout",
          "text": [
            "The weather in Islamabad is clear sky with a temperature of 37.13°C.\n",
            "\n"
          ]
        }
      ]
    },
    {
      "cell_type": "code",
      "source": [
        "import asyncio\n",
        "import os\n",
        "import requests\n",
        "from agents import Agent, Runner, function_tool\n",
        "from litellm import completion\n",
        "\n",
        "# Set environment variables for API keys\n",
        "# Replace with your actual API keys\n",
        "# os.environ[\"GEMINI_API_KEY\"] = \"your-gemini-api-key-here\"\n",
        "# os.environ[\"OPENWEATHERMAP_API_KEY\"] = \"your-openweathermap-api-key-here\"\n",
        "# os.environ[\"TAVILY_API_KEY\"] = \"your-tavily-api-key-here\"\n",
        "\n",
        "# Define the third-party weather tool\n",
        "@function_tool\n",
        "def get_weather(city: str) -> str:\n",
        "    \"\"\"Fetch the current weather for a given city using OpenWeatherMap API.\n",
        "\n",
        "    Args:\n",
        "        city: The name of the city to fetch the weather for.\n",
        "    \"\"\"\n",
        "    api_key = OPENWEATHERMAP_API_KEY\n",
        "    if not api_key:\n",
        "        return \"Error: OpenWeatherMap API key not set.\"\n",
        "\n",
        "    url = f\"http://api.openweathermap.org/data/2.5/weather?q={city}&appid={api_key}&units=metric\"\n",
        "    try:\n",
        "        response = requests.get(url)\n",
        "        response.raise_for_status()\n",
        "        data = response.json()\n",
        "        weather = data[\"weather\"][0][\"description\"]\n",
        "        temp = data[\"main\"][\"temp\"]\n",
        "        return f\"The weather in {city} is {weather} with a temperature of {temp}°C.\"\n",
        "    except requests.RequestException as e:\n",
        "        return f\"Error fetching weather for {city}: {str(e)}\"\n",
        "\n",
        "# Define the Tavily search tool\n",
        "@function_tool\n",
        "def tavily_search(query: str) -> str:\n",
        "    \"\"\"Perform a web search using the Tavily API.\n",
        "\n",
        "    Args:\n",
        "        query: The search query to send to Tavily.\n",
        "    \"\"\"\n",
        "    api_key = TAVILY_API_KEY\n",
        "    if not api_key:\n",
        "        return \"Error: Tavily API key not set.\"\n",
        "\n",
        "    url = \"https://api.tavily.com/search\"\n",
        "    payload = {\n",
        "        \"api_key\": api_key,\n",
        "        \"query\": query,\n",
        "        \"search_depth\": \"basic\",\n",
        "        \"max_results\": 5\n",
        "    }\n",
        "    try:\n",
        "        response = requests.post(url, json=payload)\n",
        "        response.raise_for_status()\n",
        "        data = response.json()\n",
        "        results = data.get(\"results\", [])\n",
        "        if not results:\n",
        "            return \"No results found for the query.\"\n",
        "\n",
        "        # Format the top results\n",
        "        formatted_results = []\n",
        "        for idx, result in enumerate(results[:3], 1):\n",
        "            title = result.get(\"title\", \"No title\")\n",
        "            snippet = result.get(\"content\", \"No content\")\n",
        "            url = result.get(\"url\", \"No URL\")\n",
        "            formatted_results.append(f\"{idx}. {title}\\n   {snippet}\\n   Source: {url}\")\n",
        "\n",
        "        return \"\\n\\n\".join(formatted_results)\n",
        "    except requests.RequestException as e:\n",
        "        return f\"Error performing Tavily search: {str(e)}\"\n",
        "\n",
        "# Create the agent with Gemini model\n",
        "agent = Agent(\n",
        "    name=\"WeatherAndSearchAssistant\",\n",
        "    instructions=\"You are a helpful assistant that provides weather information for cities and answers general questions using web search. Use the get_weather tool to fetch current weather data when asked about the weather. Use the tavily_search tool to perform a web search for other queries.\",\n",
        "    model=model,  # Adjust model as needed\n",
        "    tools=[get_weather, tavily_search]\n",
        ")\n",
        "\n",
        "# Main function to run the agent\n",
        "async def main():\n",
        "    # Example query combining weather and search\n",
        "    result = await Runner.run(agent, \"What's the weather in Islamabad, Pakistan, and what's the latest news there?\")\n",
        "    print(result.final_output)\n",
        "\n",
        "# Run the agent\n",
        "if __name__ == \"__main__\":\n",
        "    asyncio.run(main())"
      ],
      "metadata": {
        "colab": {
          "base_uri": "https://localhost:8080/"
        },
        "id": "BjziLqSjLxMD",
        "outputId": "1d326d89-bdc1-46a7-f81a-9f3ff873c0a7"
      },
      "execution_count": null,
      "outputs": [
        {
          "output_type": "stream",
          "name": "stdout",
          "text": [
            "The weather in Islamabad is clear sky with a temperature of 37.13°C. According to DAWN.COM, a trusted news outlet in Pakistan, some of the latest news includes the Higher Education Commission (HEC) and the World Bank beginning their 12th program, Islamabad's New Blue Area is set to host an event, and Quetta Gladiators defeated Islamabad United in a cricket match.\n",
            "\n"
          ]
        }
      ]
    },
    {
      "cell_type": "code",
      "source": [
        "import asyncio\n",
        "import os\n",
        "import requests\n",
        "from agents import Agent, Runner, function_tool\n",
        "from litellm import completion\n",
        "OPENWEATHERMAP_API_KEY = userdata.get(\"OPENWEATHERMAP_API_KEY\")\n",
        "TAVILY_API_KEY = userdata.get(\"TAVILY_API_KEY\")\n",
        "\n",
        "\n",
        "\n",
        "@function_tool\n",
        "def get_weather(city: str) -> str:\n",
        "    \"\"\"Fetch the current weather for a given city using OpenWeatherMap API.\n",
        "\n",
        "    Args:\n",
        "        city: The name of the city to fetch the weather for.\n",
        "    \"\"\"\n",
        "    api_key = OPENWEATHERMAP_API_KEY\n",
        "    if not api_key:\n",
        "        return \"Error: OpenWeatherMap API key not set.\"\n",
        "\n",
        "    url = f\"http://api.openweathermap.org/data/2.5/weather?q={city}&appid={api_key}&units=metric\"\n",
        "    try:\n",
        "        response = requests.get(url)\n",
        "        response.raise_for_status()\n",
        "        data = response.json()\n",
        "        weather = data[\"weather\"][0][\"description\"]\n",
        "        temp = data[\"main\"][\"temp\"]\n",
        "        return f\"The weather in {city} is {weather} with a temperature of {temp}°C.\"\n",
        "    except requests.RequestException as e:\n",
        "        return f\"Error fetching weather for {city}: {str(e)}\"\n",
        "\n",
        "@function_tool\n",
        "def tavily_search(query: str) -> str:\n",
        "    \"\"\"Perform a web search using the Tavily API.\n",
        "\n",
        "    Args:\n",
        "        query: The search query to send to Tavily.\n",
        "    \"\"\"\n",
        "    api_key = TAVILY_API_KEY\n",
        "    if not api_key:\n",
        "        return \"Error: Tavily API key not set.\"\n",
        "\n",
        "    url = \"https://api.tavily.com/search\"\n",
        "    payload = {\n",
        "        \"api_key\": api_key,\n",
        "        \"query\": query,\n",
        "        \"search_depth\": \"basic\",\n",
        "        \"max_results\": 5\n",
        "    }\n",
        "    try:\n",
        "        response = requests.post(url, json=payload)\n",
        "        response.raise_for_status()\n",
        "        data = response.json()\n",
        "        results = data.get(\"results\", [])\n",
        "        if not results:\n",
        "            return \"No results found for the query.\"\n",
        "\n",
        "        formatted_results = []\n",
        "        for idx, result in enumerate(results[:3], 1):\n",
        "            title = result.get(\"title\", \"No title\")\n",
        "            snippet = result.get(\"content\", \"No content\")\n",
        "            url = result.get(\"url\", \"No URL\")\n",
        "            formatted_results.append(f\"{idx}. {title}\\n   {snippet}\\n   Source: {url}\")\n",
        "\n",
        "        return \"\\n\\n\".join(formatted_results)\n",
        "    except requests.RequestException as e:\n",
        "        return f\"Error performing Tavily search: {str(e)}\"\n",
        "\n",
        "general_assistant = Agent(\n",
        "    name=\"GeneralAssistant\",\n",
        "    instructions=\"You are a versatile assistant that can provide weather information and perform web searches. Use the get_weather tool for weather-related queries and the tavily_search tool for general knowledge or news queries.\",\n",
        "    model=model,\n",
        "    tools=[get_weather, tavily_search]\n",
        ")\n",
        "tool = general_assistant.as_tool(tool_name=\"GeneralAssistant\",tool_description=\"You are a versatile assistant that can provide weather information and perform web searches. Use the get_weather tool for weather-related queries and the tavily_search tool for general knowledge or news queries.\",)\n",
        "\n",
        "triage_agent  = Agent(\n",
        "    name=\"triage agent\",\n",
        "    instructions=\"You are a helpful assistant that primarily delegates tasks to the GeneralAssistant. If the query involves weather or general knowledge, hand it off to the GeneralAssistant using the handoff tool. Only handle queries directly if they are about coordinating multiple tasks or summarizing results from the GeneralAssistant.\",\n",
        "    model=model,\n",
        "    tools=[tool]\n",
        ")\n",
        "\n",
        "async def main():\n",
        "    query = \"\"\n",
        "    while query!=\"exit\":\n",
        "      print(\"wellcome! if you want to exit from here enter (exit)\")\n",
        "      query = input(\"Enter your query!.  \")\n",
        "      result = await Runner.run(triage_agent , query)\n",
        "      print(result.final_output)\n",
        "\n",
        "if __name__ == \"__main__\":\n",
        "    asyncio.run(main())"
      ],
      "metadata": {
        "colab": {
          "base_uri": "https://localhost:8080/"
        },
        "id": "A1GK0oyqL5HT",
        "outputId": "b1e3725d-907b-4f2c-f3e9-a78ca7f113ad"
      },
      "execution_count": null,
      "outputs": [
        {
          "output_type": "stream",
          "name": "stdout",
          "text": [
            "wellcome! if you want to exit from here enter (exit)\n",
            "Enter your query!.  what is happening  in india\n",
            "Here are some of the top news stories from India:\n",
            "\n",
            "*   **Ceasefire After 4 Days:** There are reports about a ceasefire agreement between India and Pakistan.\n",
            "*   **Operation Sindoor:** India has said that Operation Sindoor is ongoing, which marks a new approach in India’s response to cross-border terrorism.\n",
            "*   **PM Modi's Visit to Adampur Air Base:** Prime Minister Narendra Modi visited Adampur Air Base in Punjab and asserted that India’s drones and missiles gave sleepless nights to Pakistan.\n",
            "\n",
            "wellcome! if you want to exit from here enter (exit)\n",
            "Enter your query!.  exit\n",
            "Okay, goodbye! Let me know if you need anything else in the future.\n",
            "\n"
          ]
        }
      ]
    }
  ]
}